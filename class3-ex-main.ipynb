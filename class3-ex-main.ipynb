{
 "cells": [
  {
   "cell_type": "markdown",
   "metadata": {},
   "source": [
    "# Exercise - Class 2 - Basics of Image processing\n",
    "\n",
    "Lecturer: Rei Kawakami@Tokyo tech\n",
    "\n"
   ]
  },
  {
   "cell_type": "markdown",
   "metadata": {},
   "source": [
    "----"
   ]
  },
  {
   "cell_type": "markdown",
   "metadata": {},
   "source": [
    "* [Preliminaries](class3-ex0.ipynb) Python, libraries and image coordianate"
   ]
  },
  {
   "cell_type": "markdown",
   "metadata": {},
   "source": [
    "## Exercise 1 - Manipulating brightness values\n",
    "\n",
    "* [Ex. 1-1](class3-ex1-1.ipynb) Visualize the color channels\n",
    "* [Ex. 1-2](class3-ex1-2.ipynb) Modify colors using HSV color space\n",
    "* [Ex. 1-3](class3-ex1-3.ipynb) Apply tone mapping\n",
    "* [Ex. 1-4](class3-ex1-4.ipynb) Histogram equalization"
   ]
  },
  {
   "cell_type": "markdown",
   "metadata": {},
   "source": [
    "## Excercise 2 - Transformations\n",
    "* [Ex. 2-1](class2-ex2-1.ipynb) Padding\n",
    "* [Ex. 2-2](class2-ex2-2.ipynb) 2D Transformations\n"
   ]
  }
 ],
 "metadata": {
  "kernelspec": {
   "display_name": "Python 3 (ipykernel)",
   "language": "python",
   "name": "python3"
  },
  "language_info": {
   "codemirror_mode": {
    "name": "ipython",
    "version": 3
   },
   "file_extension": ".py",
   "mimetype": "text/x-python",
   "name": "python",
   "nbconvert_exporter": "python",
   "pygments_lexer": "ipython3",
   "version": "3.9.12"
  }
 },
 "nbformat": 4,
 "nbformat_minor": 2
}
